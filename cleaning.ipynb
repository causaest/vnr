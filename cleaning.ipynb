{
 "cells": [
  {
   "cell_type": "markdown",
   "metadata": {
    "vscode": {
     "languageId": "plaintext"
    }
   },
   "source": [
    "# Analysis of Vienna Night Run Results\n",
    "\n",
    "## Data Cleaning"
   ]
  },
  {
   "cell_type": "code",
   "execution_count": 2,
   "metadata": {},
   "outputs": [],
   "source": [
    "import pandas as pd"
   ]
  },
  {
   "cell_type": "markdown",
   "metadata": {},
   "source": [
    "Read raw data and add column names."
   ]
  },
  {
   "cell_type": "code",
   "execution_count": 30,
   "metadata": {},
   "outputs": [],
   "source": [
    "year = 2022\n",
    "path_to_raw = \"data/raw/vnr-results-public-\" + str(year) + \".txt\"\n",
    "raw_data = pd.read_csv(path_to_raw, delimiter='\\t', header=None, na_values=\" \")\n",
    "raw_data.drop(axis=1, columns=[0, 8], inplace=True)\n",
    "raw_data.columns = [\"id\", \"name\", \"sex\", \"company\", \"mins_per_km\", \"km_per_hour\", \"time\"]\n",
    "results=raw_data"
   ]
  },
  {
   "cell_type": "code",
   "execution_count": 31,
   "metadata": {},
   "outputs": [
    {
     "data": {
      "text/html": [
       "<div>\n",
       "<style scoped>\n",
       "    .dataframe tbody tr th:only-of-type {\n",
       "        vertical-align: middle;\n",
       "    }\n",
       "\n",
       "    .dataframe tbody tr th {\n",
       "        vertical-align: top;\n",
       "    }\n",
       "\n",
       "    .dataframe thead th {\n",
       "        text-align: right;\n",
       "    }\n",
       "</style>\n",
       "<table border=\"1\" class=\"dataframe\">\n",
       "  <thead>\n",
       "    <tr style=\"text-align: right;\">\n",
       "      <th></th>\n",
       "      <th>id</th>\n",
       "      <th>name</th>\n",
       "      <th>sex</th>\n",
       "      <th>company</th>\n",
       "      <th>mins_per_km</th>\n",
       "      <th>km_per_hour</th>\n",
       "      <th>time</th>\n",
       "    </tr>\n",
       "  </thead>\n",
       "  <tbody>\n",
       "    <tr>\n",
       "      <th>0</th>\n",
       "      <td>2979</td>\n",
       "      <td>Dominik Stadlmann</td>\n",
       "      <td>m</td>\n",
       "      <td>Tony's Laufshop</td>\n",
       "      <td>2:52</td>\n",
       "      <td>20.8</td>\n",
       "      <td>14:23,6</td>\n",
       "    </tr>\n",
       "    <tr>\n",
       "      <th>1</th>\n",
       "      <td>4178</td>\n",
       "      <td>Dominik Jandl</td>\n",
       "      <td>m</td>\n",
       "      <td>adesso</td>\n",
       "      <td>2:54</td>\n",
       "      <td>20.6</td>\n",
       "      <td>14:31,5</td>\n",
       "    </tr>\n",
       "    <tr>\n",
       "      <th>2</th>\n",
       "      <td>2342</td>\n",
       "      <td>Jan Michael Ratay</td>\n",
       "      <td>m</td>\n",
       "      <td>LCA Umdasch Amstetten</td>\n",
       "      <td>3:00</td>\n",
       "      <td>19.9</td>\n",
       "      <td>15:00,6</td>\n",
       "    </tr>\n",
       "    <tr>\n",
       "      <th>3</th>\n",
       "      <td>3218</td>\n",
       "      <td>Indrek Tobreluts</td>\n",
       "      <td>m</td>\n",
       "      <td>Spordiklubi TT</td>\n",
       "      <td>3:02</td>\n",
       "      <td>19.7</td>\n",
       "      <td>15:10,5</td>\n",
       "    </tr>\n",
       "    <tr>\n",
       "      <th>4</th>\n",
       "      <td>2952</td>\n",
       "      <td>Philipp Gintenstorfer</td>\n",
       "      <td>m</td>\n",
       "      <td>Hawi'd Ehre</td>\n",
       "      <td>3:03</td>\n",
       "      <td>19.6</td>\n",
       "      <td>15:17,4</td>\n",
       "    </tr>\n",
       "  </tbody>\n",
       "</table>\n",
       "</div>"
      ],
      "text/plain": [
       "     id                   name sex                company mins_per_km  \\\n",
       "0  2979      Dominik Stadlmann   m        Tony's Laufshop        2:52   \n",
       "1  4178          Dominik Jandl   m                 adesso        2:54   \n",
       "2  2342      Jan Michael Ratay   m  LCA Umdasch Amstetten        3:00   \n",
       "3  3218       Indrek Tobreluts   m         Spordiklubi TT        3:02   \n",
       "4  2952  Philipp Gintenstorfer   m            Hawi'd Ehre        3:03   \n",
       "\n",
       "   km_per_hour     time  \n",
       "0         20.8  14:23,6  \n",
       "1         20.6  14:31,5  \n",
       "2         19.9  15:00,6  \n",
       "3         19.7  15:10,5  \n",
       "4         19.6  15:17,4  "
      ]
     },
     "execution_count": 31,
     "metadata": {},
     "output_type": "execute_result"
    }
   ],
   "source": [
    "results.head()"
   ]
  },
  {
   "cell_type": "markdown",
   "metadata": {},
   "source": [
    "Calculate time attributes."
   ]
  },
  {
   "cell_type": "markdown",
   "metadata": {},
   "source": [
    "Fix categorical factors."
   ]
  },
  {
   "cell_type": "markdown",
   "metadata": {},
   "source": [
    "Confirm pace as (incorrectly) provided in the original dataset."
   ]
  },
  {
   "cell_type": "markdown",
   "metadata": {},
   "source": [
    "Calculate correct speed."
   ]
  },
  {
   "cell_type": "markdown",
   "metadata": {},
   "source": [
    "Keep only relevant columns."
   ]
  },
  {
   "cell_type": "markdown",
   "metadata": {},
   "source": [
    "Save cleaned results."
   ]
  },
  {
   "cell_type": "markdown",
   "metadata": {},
   "source": []
  }
 ],
 "metadata": {
  "kernelspec": {
   "display_name": "jnb",
   "language": "python",
   "name": "python3"
  },
  "language_info": {
   "codemirror_mode": {
    "name": "ipython",
    "version": 3
   },
   "file_extension": ".py",
   "mimetype": "text/x-python",
   "name": "python",
   "nbconvert_exporter": "python",
   "pygments_lexer": "ipython3",
   "version": "3.12.8"
  }
 },
 "nbformat": 4,
 "nbformat_minor": 2
}
